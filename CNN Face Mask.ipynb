{
 "cells": [
  {
   "cell_type": "code",
   "execution_count": 1,
   "id": "f89308e9",
   "metadata": {},
   "outputs": [],
   "source": [
    "# Part 1 - Building the CNN\n",
    "#importing the Keras libraries and packages\n",
    "from keras.models import Sequential\n",
    "from keras.layers import Convolution2D\n",
    "from keras.layers import MaxPooling2D\n",
    "from keras.layers import Flatten\n",
    "from keras.layers import Dense, Dropout\n",
    "from keras import optimizers\n",
    "import tensorflow as tf\n",
    "\n",
    "# Initialing the CNN\n",
    "classifier = Sequential()\n",
    "\n",
    "# Step 1 - Convolution Layer \n",
    "classifier.add(Convolution2D(32, (3,  3), input_shape = (64, 64, 3), activation = 'relu'))\n",
    "#step 2 - Pooling\n",
    "classifier.add(MaxPooling2D(pool_size =(2,2) ) )\n",
    "\n",
    "# Adding second convolution layer\n",
    "classifier.add(Convolution2D(32, (3,  3), activation = 'relu'))\n",
    "classifier.add(MaxPooling2D(pool_size =(2,2) ))\n",
    "\n",
    "#Adding 3rd Concolution Layer\n",
    "classifier.add(Convolution2D(64, (3,  3), activation = 'relu' ))\n",
    "classifier.add(MaxPooling2D(pool_size =(2,2)) )\n",
    "\n",
    "\n",
    "#Step 3 - Flattening\n",
    "classifier.add(Flatten())\n",
    "\n",
    "#Step 4 - Full Connection\n",
    "classifier.add(Dense(256, activation = 'relu'))\n",
    "classifier.add(Dropout(0.5))\n",
    "classifier.add(Dense(2, activation = 'softmax'))\n",
    "\n",
    "#Compiling The CNN\n",
    "classifier.compile(\n",
    "                      optimizer = tf.keras.optimizers.SGD(learning_rate = 0.01),\n",
    "                      loss = 'categorical_crossentropy',\n",
    "                      metrics = ['accuracy']\n",
    "                  )"
   ]
  },
  {
   "cell_type": "code",
   "execution_count": 2,
   "id": "8f889a5b",
   "metadata": {},
   "outputs": [],
   "source": [
    "\n",
    "# fullpath= \"C:\\\\Users\\\\91812\\\\Downloads\\\\Face-Mask-Detection\\\\Face-Mask-Detection-master\\\\dataset\\training_set\"\n",
    "\n",
    "# import splitfolders  \n",
    "\n",
    "# # The path to the directory where the original dataset was uncompressed\n",
    "# input_folder = \"C:\\\\Users\\\\91812\\\\Downloads\\\\Face-Mask-Detection\\\\Face-Mask-Detection-master\\\\dataset\\\\withmask\"\n",
    "\n",
    "# output_folder = \"C:\\\\Users\\\\91812\\\\Downloads\\\\Face-Mask-Detection\\\\Face-Mask-Detection-master\\\\dataset\\\\withmask\"\n",
    "\n",
    "# splitfolders.ratio(input_folder, output_folder, seed=1337, ratio=(.8, .2), group_prefix=None) "
   ]
  },
  {
   "cell_type": "code",
   "execution_count": 3,
   "id": "c86b5d73",
   "metadata": {},
   "outputs": [],
   "source": [
    "\n",
    "# fullpath= \"C:\\\\Users\\\\91812\\\\Downloads\\\\Face-Mask-Detection\\\\Face-Mask-Detection-master\\\\dataset\\training_set\"\n",
    "\n",
    "# import splitfolders  \n",
    "\n",
    "# # The path to the directory where the original dataset was uncompressed\n",
    "# input_folder = \"C:\\\\Users\\\\91812\\\\Downloads\\\\Face-Mask-Detection\\\\Face-Mask-Detection-master\\\\dataset\\\\withoutmask\"\n",
    "\n",
    "# output_folder = \"C:\\\\Users\\\\91812\\\\Downloads\\\\Face-Mask-Detection\\\\Face-Mask-Detection-master\\\\dataset\\\\withoutmask\"\n",
    "\n",
    "# splitfolders.ratio(input_folder, output_folder, seed=1337, ratio=(.8, .2), group_prefix=None) "
   ]
  },
  {
   "cell_type": "code",
   "execution_count": 9,
   "id": "c0b9648f",
   "metadata": {},
   "outputs": [
    {
     "name": "stdout",
     "output_type": "stream",
     "text": [
      "Found 3273 images belonging to 2 classes.\n",
      "Found 819 images belonging to 2 classes.\n"
     ]
    },
    {
     "data": {
      "text/plain": [
       "{'mask': 0, 'no_mask': 1}"
      ]
     },
     "execution_count": 9,
     "metadata": {},
     "output_type": "execute_result"
    }
   ],
   "source": [
    "\n",
    "#Part 2 Fittting the CNN to the image\n",
    "from keras.preprocessing.image import ImageDataGenerator\n",
    "train_datagen = ImageDataGenerator(\n",
    "        rescale=1./255,\n",
    "        shear_range=0.2,\n",
    "        zoom_range=0.2,\n",
    "        horizontal_flip=True)\n",
    "\n",
    "test_datagen = ImageDataGenerator(rescale=1./255)\n",
    "\n",
    "training_set = train_datagen.flow_from_directory(\n",
    "        'C:\\\\Users\\\\91812\\\\Downloads\\\\Face-Mask-Detection\\\\Face-Mask-Detection-master\\\\dataset\\\\train\\\\',\n",
    "        target_size=(64, 64),\n",
    "        batch_size=32,\n",
    "        class_mode='categorical')\n",
    "\n",
    "test_set = test_datagen.flow_from_directory(\n",
    "        'C:\\\\Users\\\\91812\\\\Downloads\\\\Face-Mask-Detection\\\\Face-Mask-Detection-master\\\\dataset\\\\test\\\\',\n",
    "        target_size=(64, 64),\n",
    "        batch_size=32,\n",
    "        class_mode='categorical')\n",
    "\n",
    "#print(training_set)\n",
    "training_set.class_indices"
   ]
  },
  {
   "cell_type": "code",
   "execution_count": 5,
   "id": "9f2939b9",
   "metadata": {},
   "outputs": [
    {
     "name": "stdout",
     "output_type": "stream",
     "text": [
      "Epoch 1/25\n",
      " 20/103 [====>.........................] - ETA: 24s - loss: 0.6902 - accuracy: 0.5406"
     ]
    },
    {
     "name": "stderr",
     "output_type": "stream",
     "text": [
      "C:\\Users\\91812\\anaconda3\\lib\\site-packages\\PIL\\Image.py:945: UserWarning: Palette images with Transparency expressed in bytes should be converted to RGBA images\n",
      "  warnings.warn(\n"
     ]
    },
    {
     "name": "stdout",
     "output_type": "stream",
     "text": [
      "103/103 [==============================] - 46s 407ms/step - loss: 0.6560 - accuracy: 0.6355 - val_loss: 0.6115 - val_accuracy: 0.6288\n",
      "Epoch 2/25\n",
      "103/103 [==============================] - 22s 210ms/step - loss: 0.5440 - accuracy: 0.7556 - val_loss: 0.6869 - val_accuracy: 0.6093\n",
      "Epoch 3/25\n",
      "103/103 [==============================] - 21s 199ms/step - loss: 0.4318 - accuracy: 0.8133 - val_loss: 0.3690 - val_accuracy: 0.8669\n",
      "Epoch 4/25\n",
      "103/103 [==============================] - 21s 202ms/step - loss: 0.3504 - accuracy: 0.8647 - val_loss: 0.3676 - val_accuracy: 0.8620\n",
      "Epoch 5/25\n",
      "103/103 [==============================] - 21s 200ms/step - loss: 0.3151 - accuracy: 0.8781 - val_loss: 0.4593 - val_accuracy: 0.8095\n",
      "Epoch 6/25\n",
      "103/103 [==============================] - 21s 199ms/step - loss: 0.3032 - accuracy: 0.8873 - val_loss: 0.3337 - val_accuracy: 0.8632\n",
      "Epoch 7/25\n",
      "103/103 [==============================] - 20s 196ms/step - loss: 0.3025 - accuracy: 0.8888 - val_loss: 0.3167 - val_accuracy: 0.8742\n",
      "Epoch 8/25\n",
      "103/103 [==============================] - 20s 196ms/step - loss: 0.2894 - accuracy: 0.8894 - val_loss: 0.3395 - val_accuracy: 0.8632\n",
      "Epoch 9/25\n",
      "103/103 [==============================] - 20s 195ms/step - loss: 0.2705 - accuracy: 0.8934 - val_loss: 0.3050 - val_accuracy: 0.8779\n",
      "Epoch 10/25\n",
      "103/103 [==============================] - 21s 200ms/step - loss: 0.2705 - accuracy: 0.8995 - val_loss: 0.3885 - val_accuracy: 0.8352\n",
      "Epoch 11/25\n",
      "103/103 [==============================] - 20s 197ms/step - loss: 0.2568 - accuracy: 0.9068 - val_loss: 0.2838 - val_accuracy: 0.8864\n",
      "Epoch 12/25\n",
      "103/103 [==============================] - 21s 199ms/step - loss: 0.2519 - accuracy: 0.9071 - val_loss: 0.2820 - val_accuracy: 0.8828\n",
      "Epoch 13/25\n",
      "103/103 [==============================] - 22s 214ms/step - loss: 0.2495 - accuracy: 0.9041 - val_loss: 0.2821 - val_accuracy: 0.8901\n",
      "Epoch 14/25\n",
      "103/103 [==============================] - 20s 193ms/step - loss: 0.2446 - accuracy: 0.9074 - val_loss: 0.2689 - val_accuracy: 0.8987\n",
      "Epoch 15/25\n",
      "103/103 [==============================] - 19s 187ms/step - loss: 0.2338 - accuracy: 0.9123 - val_loss: 0.2789 - val_accuracy: 0.8901\n",
      "Epoch 16/25\n",
      "103/103 [==============================] - 19s 179ms/step - loss: 0.2345 - accuracy: 0.9114 - val_loss: 0.2577 - val_accuracy: 0.8974\n",
      "Epoch 17/25\n",
      "103/103 [==============================] - 21s 203ms/step - loss: 0.2256 - accuracy: 0.9169 - val_loss: 0.2539 - val_accuracy: 0.8987\n",
      "Epoch 18/25\n",
      "103/103 [==============================] - 22s 216ms/step - loss: 0.2147 - accuracy: 0.9200 - val_loss: 0.2401 - val_accuracy: 0.9035\n",
      "Epoch 19/25\n",
      "103/103 [==============================] - 22s 213ms/step - loss: 0.2141 - accuracy: 0.9187 - val_loss: 0.2471 - val_accuracy: 0.9023\n",
      "Epoch 20/25\n",
      "103/103 [==============================] - 21s 202ms/step - loss: 0.2102 - accuracy: 0.9242 - val_loss: 0.2379 - val_accuracy: 0.9035\n",
      "Epoch 21/25\n",
      "103/103 [==============================] - 21s 202ms/step - loss: 0.1999 - accuracy: 0.9245 - val_loss: 0.2621 - val_accuracy: 0.8987\n",
      "Epoch 22/25\n",
      "103/103 [==============================] - 25s 241ms/step - loss: 0.2034 - accuracy: 0.9245 - val_loss: 0.2344 - val_accuracy: 0.9072\n",
      "Epoch 23/25\n",
      "103/103 [==============================] - 22s 212ms/step - loss: 0.1938 - accuracy: 0.9261 - val_loss: 0.2193 - val_accuracy: 0.9072\n",
      "Epoch 24/25\n",
      "103/103 [==============================] - 20s 192ms/step - loss: 0.1878 - accuracy: 0.9288 - val_loss: 0.2264 - val_accuracy: 0.9109\n",
      "Epoch 25/25\n",
      "103/103 [==============================] - 20s 194ms/step - loss: 0.1865 - accuracy: 0.9258 - val_loss: 0.2362 - val_accuracy: 0.9121\n"
     ]
    }
   ],
   "source": [
    "# from tensorflow.keras.callbacks import ModelCheckpoint\n",
    "\n",
    "# checkpoint_filepath = 'C:\\\\Users\\\\91812\\\\Downloads\\\\Face-Mask-Detection\\\\Face-Mask-Detection-master\\\\Trained_model.h5'\n",
    "\n",
    "# model_checkpoint_callback = \n",
    "#                     tf.keras.callbacks.ModelCheckpoint(\n",
    "#                         filepath=checkpoint_filepath,\n",
    "#                         save_weights_only=True,\n",
    "#                         monitor='val_accuracy',\n",
    "#                         mode='max',\n",
    "#                         save_best_only=True)\n",
    "\n",
    "\n",
    "model = classifier.fit(\n",
    "        training_set,\n",
    "        epochs=25,\n",
    "        validation_data = test_set,\n",
    "        # callbacks=[model_checkpoint_callback],\n",
    "        verbose=1\n",
    "      )"
   ]
  },
  {
   "cell_type": "code",
   "execution_count": 6,
   "id": "5f29570f",
   "metadata": {},
   "outputs": [
    {
     "name": "stdout",
     "output_type": "stream",
     "text": [
      "dict_keys(['loss', 'accuracy', 'val_loss', 'val_accuracy'])\n"
     ]
    }
   ],
   "source": [
    "#Saving the model\n",
    "import h5py\n",
    "classifier.save('C:\\\\Users\\\\91812\\\\Downloads\\\\Face-Mask-Detection\\\\Face-Mask-Detection-master\\\\Trained_model.h5')\n",
    "print(model.history.keys())\n",
    "\n",
    "#model.load_weights(checkpoint_filepath)"
   ]
  },
  {
   "cell_type": "code",
   "execution_count": 7,
   "id": "4722c5e1",
   "metadata": {},
   "outputs": [
    {
     "data": {
      "image/png": "[encoded data removed]",
      "text/plain": [
       "<Figure size 432x288 with 1 Axes>"
      ]
     },
     "metadata": {
      "needs_background": "light"
     },
     "output_type": "display_data"
    },
    {
     "data": {
      "image/png": "[encoded data removed]",
      "text/plain": [
       "<Figure size 432x288 with 1 Axes>"
      ]
     },
     "metadata": {
      "needs_background": "light"
     },
     "output_type": "display_data"
    }
   ],
   "source": [
    "import matplotlib.pyplot as plt\n",
    "# summarize history for accuracy\n",
    "plt.plot(model.history['accuracy'])\n",
    "plt.plot(model.history['val_accuracy'])\n",
    "plt.title('model accuracy')\n",
    "plt.ylabel('accuracy')\n",
    "plt.xlabel('epoch')\n",
    "plt.legend(['train', 'test'], loc='upper left')\n",
    "plt.show()\n",
    "# summarize history for loss\n",
    "\n",
    "plt.plot(model.history['loss'])\n",
    "plt.plot(model.history['val_loss'])\n",
    "plt.title('model loss')\n",
    "plt.ylabel('loss')\n",
    "plt.xlabel('epoch')\n",
    "plt.legend(['train', 'test'], loc='upper left')\n",
    "plt.show()"
   ]
  },
  {
   "cell_type": "code",
   "execution_count": null,
   "id": "ba299cfe",
   "metadata": {},
   "outputs": [],
   "source": []
  }
 ],
 "metadata": {
  "kernelspec": {
   "display_name": "Python 3 (ipykernel)",
   "language": "python",
   "name": "python3"
  },
  "language_info": {
   "codemirror_mode": {
    "name": "ipython",
    "version": 3
   },
   "file_extension": ".py",
   "mimetype": "text/x-python",
   "name": "python",
   "nbconvert_exporter": "python",
   "pygments_lexer": "ipython3",
   "version": "3.8.12"
  }
 },
 "nbformat": 4,
 "nbformat_minor": 5
}
